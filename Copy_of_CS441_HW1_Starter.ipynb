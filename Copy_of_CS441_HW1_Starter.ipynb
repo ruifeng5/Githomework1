{
  "cells": [
    {
      "cell_type": "markdown",
      "metadata": {
        "id": "view-in-github",
        "colab_type": "text"
      },
      "source": [
        "<a href=\"https://colab.research.google.com/github/ruifeng5/Githomework1/blob/master/Copy_of_CS441_HW1_Starter.ipynb\" target=\"_parent\"><img src=\"https://colab.research.google.com/assets/colab-badge.svg\" alt=\"Open In Colab\"/></a>"
      ]
    },
    {
      "cell_type": "markdown",
      "metadata": {
        "id": "Gd7scc-8QJvE"
      },
      "source": [
        "## CS441: Applied ML - HW 1"
      ]
    },
    {
      "cell_type": "markdown",
      "metadata": {
        "id": "QagOldZDQJvG"
      },
      "source": [
        "### Part I: MNIST Classification\n",
        "\n",
        "Include all the code for Part 1 in this section"
      ]
    },
    {
      "cell_type": "code",
      "execution_count": 6,
      "metadata": {
        "id": "vO_W4UH7NNBo"
      },
      "outputs": [],
      "source": [
        "# initialization code\n",
        "import numpy as np\n",
        "import math\n",
        "from keras.datasets import mnist\n",
        "%matplotlib inline\n",
        "from matplotlib import pyplot as plt\n",
        "from scipy import stats\n",
        "from sklearn.linear_model import LogisticRegression\n",
        "\n",
        "# loads MNIST data and reformat to 768-d vectors with values in range 0 to 1\n",
        "# splits into train/val/test sets and provides indices for subsets of train\n",
        "def load_mnist():\n",
        "  (x_train, y_train), (x_test, y_test) = mnist.load_data()\n",
        "  x_train = np.reshape(x_train, (len(x_train), 28*28))\n",
        "  x_test = np.reshape(x_test, (len(x_test), 28*28))\n",
        "  maxval = x_train.max()\n",
        "  x_train = x_train/maxval\n",
        "  x_test = x_test/maxval\n",
        "  x_val = x_train[:10000]\n",
        "  y_val = y_train[:10000]\n",
        "  x_train = x_train[10000:]\n",
        "  y_train = y_train[10000:]\n",
        "  train_indices = dict()\n",
        "  train_indices['xs'] = np.arange(50)\n",
        "  train_indices['s'] = np.arange(500)\n",
        "  train_indices['m'] = np.arange(5000)\n",
        "  train_indices['all'] = np.arange(50000)\n",
        "  return (x_train, y_train), (x_val, y_val), (x_test, y_test), train_indices\n",
        "\n",
        "# displays a set of mnist images\n",
        "def display_mnist(x, subplot_rows=1, subplot_cols=1):\n",
        "  if subplot_rows>1 or subplot_cols>1:\n",
        "    fig, ax = plt.subplots(subplot_rows, subplot_cols, figsize=(15,15))\n",
        "    for i in np.arange(len(x)):\n",
        "      ax[i].imshow(np.reshape(x[i], (28,28)), cmap='gray')\n",
        "      ax[i].axis('off')\n",
        "  else:\n",
        "      plt.imshow(np.reshape(x, (28,28)), cmap='gray')\n",
        "      plt.axis('off')\n",
        "  plt.show()\n",
        "\n",
        "# counts the number of examples per class\n",
        "def class_count_mnist(y):\n",
        "  count = np.zeros((10,),dtype='uint32')\n",
        "  for i in np.arange(10):\n",
        "    count[i] = sum(y==i)\n",
        "  return count"
      ]
    },
    {
      "cell_type": "code",
      "source": [
        "# example of using MNIST load, display, indices, and count functions\n",
        "(x_train, y_train), (x_val, y_val), (x_test, y_test), train_indices = load_mnist()\n",
        "display_mnist(x_train[:10],1,10)\n",
        "print('Total size: train={}, val={}, test ={}'.format(len(x_train), len(x_val), len(x_test)))\n",
        "print('Train subset size: xs={}, s={}, m={}, all={}'.format(len(train_indices['xs']),len(train_indices['s']),len(train_indices['m']),len(train_indices['all'])))\n",
        "print('Class count for s: {}'.format(class_count_mnist(y_train[train_indices['s']])))"
      ],
      "metadata": {
        "id": "-PwqmwHdhpox",
        "colab": {
          "base_uri": "https://localhost:8080/",
          "height": 156
        },
        "outputId": "35484e2c-856b-40ad-d3d3-463e3e7464f4"
      },
      "execution_count": 7,
      "outputs": [
        {
          "output_type": "display_data",
          "data": {
            "text/plain": [
              "<Figure size 1080x1080 with 10 Axes>"
            ],
            "image/png": "[encoded data removed]"
          },
          "metadata": {
            "needs_background": "light"
          }
        },
        {
          "output_type": "stream",
          "name": "stdout",
          "text": [
            "Total size: train=50000, val=10000, test =10000\n",
            "Train subset size: xs=50, s=500, m=5000, all=50000\n",
            "Class count for s: [56 57 51 49 46 46 50 51 40 54]\n"
          ]
        }
      ]
    },
    {
      "cell_type": "code",
      "execution_count": null,
      "metadata": {
        "id": "szEj_VKfORbU"
      },
      "outputs": [],
      "source": [
        "# This is a suggested function definition for KNN, but feel free to change it\n",
        "def classify_KNN(X_trn, y_trn, X_tst, K=1):\n",
        "  '''\n",
        "  Classify each data point in X_tst using a K-nearest neighbor classifier based on (X_trn, y_trn), with L2 distance.   \n",
        "  Input: X_trn[i] is the ith training data. y_trn[i] is the ith training label. \n",
        "         X_tst[i] is the ith example to classify.  K is the number of closest neighbors to use.\n",
        "  Output: return y_pred, where y_pred[i] is the predicted ith test label \n",
        "  '''\n",
        "  # needs code here\n",
        "  N = len(X_trn)\n",
        "  M = len(X_tst)\n",
        "  distance = np.zeros([M,N])\n",
        "  y_pre = np.zeros(M)\n",
        "  for i in range(M):\n",
        "    for j in range(N):\n",
        "      distance[i][j] = math.dist(X_trn[j],X_tst[i])\n",
        "    index = distance[i].argmin()\n",
        "    y_pred = y_trn[index]      \n",
        "  return y_pred\n",
        "y_pred = classify_KNN(x_train, y_train,x_test,K=1)\n",
        "print(y_pred)\n"
      ]
    },
    {
      "cell_type": "code",
      "execution_count": null,
      "metadata": {
        "id": "lZCd60v4UXE5"
      },
      "outputs": [],
      "source": [
        "# This is a suggested function definition for training Naive Bayes, but feel free to change it\n",
        "def train_NB_mnist(X, y, alpha=1):\n",
        "  '''\n",
        "  Train P(x_f=v|y=c) for each feature f, value v, and class c.  Can assume 10 classes and that the features are binary variables \n",
        "  Input: X[i] is the ith training data. y[i] is the ith training label. alpha is the count prior\n",
        "  Output: return pxy of shape (Nf, 10, 2), where Nf is the number of features; pxy[f,c,v] is P(x_f=v|y=c) \n",
        "  '''\n",
        "  # needs code here\n",
        "  Nf = len(X[0])\n",
        "  num_y = 10\n",
        "  pxy = np.zeros([Nf,num_y,2])\n",
        "  for i in range(Nf):\n",
        "    for j in range(num_y):\n",
        "      for k in range(2):\n",
        "        num_f = np.sum(X[:,i] == k)\n",
        "        pxy[i][j][k] = (np.sum((X[:,i] == k)&(y==j))+alpha)/(np.sum(y==j)+alpha*num_f)\n",
        "  return pxy\n",
        "\n",
        "# This is a suggested function definition for evauating Naive Bayes, but feel free to change it\n",
        "def eval_NB_mnist(pxy, X):\n",
        "  '''\n",
        "  Evaluate naive bayes for mnist\n",
        "  Input: pxy is the trained model; X is the test data\n",
        "  Output: return y_pred, where y_pred[i] is the predicted ith test label  \n",
        "  '''\n",
        "\n",
        "  # needs code here\n",
        "  Nf = len(X[0])\n",
        "  py = np.zeros(10)\n",
        "  total = np.sum(y)\n",
        "  for i in range(10):\n",
        "    py[i]=np.sum(y==i)/total\n",
        "  y_pred = np.zeros(len(X))\n",
        "  temp = np.zeros([Nf,10])\n",
        "\n",
        "  for j in range(len(X)):\n",
        "    for k in range(10):\n",
        "      temp[j][k] = np.log(py[k])\n",
        "      for l in range(Nf):\n",
        "        temp[j][k] += np.log(pxy[l][k]) \n",
        "\n",
        "  for w in range(len(X)):\n",
        "    index = temp[w].argmin()\n",
        "    y_pred = index #看看如何把index转化回y价值\n",
        "\n",
        "  return y_pred\n",
        "\n",
        "pxy = train_NB_mnist(x_train, y_train, alpha=1)\n",
        "y_pred = eval_NB_mnist(pxy,x_test)\n",
        "print(y_pred)"
      ]
    },
    {
      "cell_type": "code",
      "source": [
        "# don't forget logistic regression!"
      ],
      "metadata": {
        "id": "tbzXogNvhAx6"
      },
      "execution_count": null,
      "outputs": []
    },
    {
      "cell_type": "code",
      "source": [
        "# experiments code"
      ],
      "metadata": {
        "id": "uLvi7Yj-ebAa"
      },
      "execution_count": null,
      "outputs": []
    },
    {
      "cell_type": "markdown",
      "source": [
        "## Part 2: Temperature Regression\n",
        "\n",
        "Include all your code for part 2 in this section.  You can copy-paste code from part 1 if it is re-usable."
      ],
      "metadata": {
        "id": "F49MYTryhPJB"
      }
    },
    {
      "cell_type": "code",
      "source": [
        "import numpy as np\n",
        "from google.colab import drive\n",
        "%matplotlib inline\n",
        "from matplotlib import pyplot as plt\n",
        "from sklearn.linear_model import Ridge\n",
        "from sklearn.linear_model import Lasso\n",
        "\n",
        "# load data (modify to match your data directory or comment)\n",
        "def load_temp_data():\n",
        "  drive.mount('/content/drive')\n",
        "  datadir = \"/content/drive/My Drive/CS441/hw1/\" \n",
        "  T = np.load(datadir + 'temperature_data.npz')\n",
        "  x_train, y_train, x_val, y_val, x_test, y_test, dates_train, dates_val, dates_test, feature_to_city, feature_to_day = \\\n",
        "  T['x_train'], T['y_train'], T['x_val'], T['y_val'], T['x_test'], T['y_test'], T['dates_train'], T['dates_val'], T['dates_test'], T['feature_to_city'], T['feature_to_day']\n",
        "  return (x_train, y_train, x_val, y_val, x_test, y_test, dates_train, dates_val, dates_test, feature_to_city, feature_to_day)\n",
        "\n",
        "# plot one data point for listed cities and target temperature\n",
        "def plot_temps(x, y, cities, feature_to_city, feature_to_day, target_date):\n",
        "  nc = len(cities)\n",
        "  ndays = 5\n",
        "  xplot = np.array([-5,-4,-3,-2,-1])\n",
        "  yplot = np.zeros((nc,ndays))\n",
        "  for f in np.arange(len(x)):\n",
        "    for c in np.arange(nc):\n",
        "      if cities[c]==feature_to_city[f]:\n",
        "        yplot[feature_to_day[f]+ndays,c] = x[f]\n",
        "  plt.plot(xplot,yplot)\n",
        "  plt.legend(cities)\n",
        "  plt.plot(0, y, 'b*', markersize=10)\n",
        "  plt.title('Predict Temp for Cleveland on ' + target_date)\n",
        "  plt.xlabel('Day')\n",
        "  plt.ylabel('Avg Temp (C)')\n",
        "  plt.show()\n",
        "\n",
        "\n"
      ],
      "metadata": {
        "id": "4PG1tNzr1tSO"
      },
      "execution_count": null,
      "outputs": []
    },
    {
      "cell_type": "code",
      "source": [
        "# load data (may need to modify file location in preceding cell)\n",
        "(x_train, y_train, x_val, y_val, x_test, y_test, dates_train, dates_val, dates_test, feature_to_city, feature_to_day) = load_temp_data()\n",
        "\n",
        "# example of displaying information related to a feature index\n",
        "f = 361\n",
        "print('Feature {}: city = {}, day= {}'.format(f,feature_to_city[f], feature_to_day[f]))\n",
        "\n",
        "# example of computing RMSE and median absolute error (for baseline of predicting based on previous day's temperature in Cleveland)\n",
        "baseline_rmse = np.sqrt(np.mean((y_val[1:]-y_val[:-1])**2)) # root mean squared error\n",
        "baseline_mae = np.sqrt(np.median(np.abs(y_val[1:]-y_val[:-1]))) # median absolute error\n",
        "print('Baseline - predict same as previous day: RMSE={}, MAE={}'.format(baseline_rmse, baseline_mae))\n",
        "\n",
        "# plots temperatures for preceding days for given cities, and target (Cleveland) temp\n",
        "plot_temps(x_val[0], y_val[0], ['Cleveland', 'New York', 'Chicago', 'Denver', 'St. Louis'], feature_to_city, feature_to_day, dates_val[0])\n",
        "plot_temps(x_val[100], y_val[100], ['Cleveland', 'New York', 'Chicago', 'Denver', 'St. Louis'], feature_to_city, feature_to_day, dates_val[1])"
      ],
      "metadata": {
        "id": "zZ6shFfVHlpZ"
      },
      "execution_count": null,
      "outputs": []
    },
    {
      "cell_type": "code",
      "execution_count": null,
      "metadata": {
        "id": "ERcv0wIcQnWB"
      },
      "outputs": [],
      "source": [
        "# This is a suggested function definition for KNN, but feel free to change it\n",
        "def classify_KNN(X_trn, y_trn, X_tst, K=1):\n",
        "  '''\n",
        "  Classify each data point in X_tst using a K-nearest neighbor classifier based on (X_trn, y_trn), with L2 distance.   \n",
        "  Input: X_trn[i] is the ith training data. y_trn[i] is the ith training label. K is the number of closest neighbors to use.\n",
        "  Output: return y_pred, where y_pred[i] is the predicted ith test label \n",
        "  '''\n",
        "  # needs code\n",
        "      \n",
        "  return y_pred\n"
      ]
    },
    {
      "cell_type": "code",
      "source": [
        "# Suggested function definition for NB for temperature regression, but feel free to change \n",
        "def train_NB_temp(X, y, std_prior=0):\n",
        "  '''\n",
        "  Train NB, assuming that X[f]-y is a Gaussian\n",
        "  Input: X[i] is the ith training data. y[i] is the ith training label. std_prior is a value to add to std\n",
        "  Output: return pxy['mu'] and pxy['std'] each with number of values equal to number of features\n",
        "  '''\n",
        "  # needs code\n",
        "  return pxy\n",
        "\n",
        "def eval_NB_temp(pxy, X):\n",
        "  '''\n",
        "  Evaluate naive bayes for temp\n",
        "  Input: pxy is the trained model; X is the test data\n",
        "  Output: return y_pred, where y_pred[i] is the predicted ith test value\n",
        "  '''\n",
        "  # needs code\n",
        "  return pred_y"
      ],
      "metadata": {
        "id": "u9i_hB-UQWDp"
      },
      "execution_count": null,
      "outputs": []
    },
    {
      "cell_type": "code",
      "source": [
        "# Don't forget linear regression!"
      ],
      "metadata": {
        "id": "Un086lGzbQfQ"
      },
      "execution_count": null,
      "outputs": []
    },
    {
      "cell_type": "code",
      "source": [
        "# Feature analysis"
      ],
      "metadata": {
        "id": "3rehsXx0cZOh"
      },
      "execution_count": null,
      "outputs": []
    },
    {
      "cell_type": "markdown",
      "source": [
        "## Part 3: Stretch Goals\n",
        "Include all your code used for part 3 in this section. You can copy-paste code from parts 1 or 2 if it is re-usable."
      ],
      "metadata": {
        "id": "3X3j_efPhh6e"
      }
    },
    {
      "cell_type": "code",
      "source": [],
      "metadata": {
        "id": "b5SnDgjKVdLJ"
      },
      "execution_count": null,
      "outputs": []
    }
  ],
  "metadata": {
    "colab": {
      "provenance": [],
      "include_colab_link": true
    },
    "kernelspec": {
      "display_name": "Python 3",
      "language": "python",
      "name": "python3"
    },
    "language_info": {
      "codemirror_mode": {
        "name": "ipython",
        "version": 3
      },
      "file_extension": ".py",
      "mimetype": "text/x-python",
      "name": "python",
      "nbconvert_exporter": "python",
      "pygments_lexer": "ipython3",
      "version": "3.7.6"
    }
  },
  "nbformat": 4,
  "nbformat_minor": 0
}